{
 "cells": [
  {
   "cell_type": "markdown",
   "id": "fa6848bd-7834-4124-9bb1-cb3fceb82264",
   "metadata": {},
   "source": [
    "<figure>\n",
    "<img src=\"https://centribal.com/wp-content/uploads/2021/08/Procesamiento-de-Lenguaje-Natural-NLP-y-chatbot.jpg\"  width=\"200\" height=\"200\" align=\"left\"/> \n",
    "</figure>\n",
    "\n",
    "# <span style=\"color:blue\"><left>Tarea 2 </left></span>"
   ]
  },
  {
   "cell_type": "markdown",
   "id": "5fceceaf-fd07-4fec-b444-d07dadd118b0",
   "metadata": {
    "tags": []
   },
   "source": [
    "# <span style=\"color:red\"><center>Introducción al Procesamiento de Lenguaje Natural (PLN)</center></span>"
   ]
  },
  {
   "cell_type": "markdown",
   "id": "db3f22e1-1d1f-4931-8154-28b204ee1eb8",
   "metadata": {
    "jp-MarkdownHeadingCollapsed": true,
    "tags": []
   },
   "source": [
    "## Presentación del Autor del Concepto </span>\n",
    "El concepto de Procesamiento de Lenguaje Natural fue propuesto por Alan Turing, un matemático, lógico y criptógrafo británico. Turing es ampliamente reconocido por su trabajo en la descodificación de los códigos nazis durante la Segunda Guerra Mundial y por sentar las bases teóricas de la computación y la inteligencia artificial. Su famoso \"Test de Turing\" fue diseñado para evaluar la capacidad de una máquina para exhibir un comportamiento inteligente que pueda ser indistinguible del de un ser humano.\n",
    "\n",
    "<figure>\n",
    "<img src=\"https://www.advancedsciencenews.com/wp-content/uploads/2021/06/Alan-Turing.png\"  width=\"100%\" align=\"center\"/>\n",
    "</figure>\n"
   ]
  },
  {
   "cell_type": "markdown",
   "id": "09a5fa37-b5cd-4a9d-8fbe-3d0adf1f9a87",
   "metadata": {},
   "source": [
    "## Descripción del Perfil del Autor </span>\n",
    "Alan Turing nació el 23 de junio de 1912 en Londres, Reino Unido. Realizó contribuciones fundamentales en varios campos de las ciencias de la computación y las matemáticas, incluido el desarrollo de la máquina de Turing, un modelo conceptual de una computadora que sienta las bases de la teoría de la computación. Sus ideas visionarias sobre la inteligencia artificial y el Procesamiento de Lenguaje Natural han sido fundamentales para el avance de la ciencia de datos y la informática."
   ]
  },
  {
   "cell_type": "markdown",
   "id": "c9fe0874-738e-464e-b732-97192b8c72f0",
   "metadata": {},
   "source": [
    "## Presentación del Concepto\n",
    "El Procesamiento de Lenguaje Natural (PLN) es una rama de la inteligencia artificial y la lingüística computacional que se centra en la interacción entre los seres humanos y las computadoras mediante el lenguaje humano. Su objetivo es permitir que las máquinas comprendan, interpreten y generen lenguaje natural en diferentes formas, como texto y voz."
   ]
  },
  {
   "cell_type": "markdown",
   "id": "4cab0d34-2320-4c59-bd05-cff6021f5e70",
   "metadata": {},
   "source": [
    "## Fórmula Matemática Relacionada al Concepto\n",
    "El PLN implica el uso de diversas técnicas y algoritmos matemáticos. Una de las técnicas fundamentales en el PLN es el modelo de lenguaje, que se basa en la probabilidad condicional de una secuencia de palabras en función de las palabras anteriores. La fórmula matemática básica para un modelo de lenguaje se puede expresar como:"
   ]
  },
  {
   "cell_type": "markdown",
   "id": "1df7516c-109c-48e8-be92-412584b80503",
   "metadata": {
    "tags": []
   },
   "source": [
    "<p style=\"text-align:center;\"><em>P(palabra_n | palabra_1, palabra_2, ..., palabra_n-1)</em></p>"
   ]
  },
  {
   "cell_type": "markdown",
   "id": "123b6f15-0d37-4942-8f91-f6050cfe052a",
   "metadata": {},
   "source": [
    "### Ejemplo del uso del concepto\n",
    "Un ejemplo de aplicación del PLN es el reconocimiento de voz en asistentes virtuales como \"Siri\" de Apple o \"Alexa\" de Amazon. Estos asistentes utilizan técnicas de PLN para interpretar los comandos y preguntas habladas por los usuarios y responder de manera adecuada. Mediante el uso de modelos de lenguaje y algoritmos de aprendizaje automático, estos asistentes pueden entender el lenguaje humano y proporcionar respuestas precisas."
   ]
  },
  {
   "cell_type": "markdown",
   "id": "f1e29c56-3f90-43af-846d-4a3a2c558968",
   "metadata": {},
   "source": [
    "## Fuente\n",
    "[Alan Turing. (2021, 23 de junio). En Wikipedia.](https://es.wikipedia.org/wiki/Alan_Turing)"
   ]
  }
 ],
 "metadata": {
  "kernelspec": {
   "display_name": "Python 3 (ipykernel)",
   "language": "python",
   "name": "python3"
  },
  "language_info": {
   "codemirror_mode": {
    "name": "ipython",
    "version": 3
   },
   "file_extension": ".py",
   "mimetype": "text/x-python",
   "name": "python",
   "nbconvert_exporter": "python",
   "pygments_lexer": "ipython3",
   "version": "3.11.4"
  }
 },
 "nbformat": 4,
 "nbformat_minor": 5
}
